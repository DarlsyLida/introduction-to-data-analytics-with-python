{
 "cells": [
  {
   "cell_type": "code",
   "execution_count": null,
   "id": "7e016c3d",
   "metadata": {},
   "outputs": [],
   "source": [
    "def family():\n",
    "    print(\"Family members\")"
   ]
  },
  {
   "cell_type": "code",
   "execution_count": 2,
   "id": "3f936d78",
   "metadata": {},
   "outputs": [
    {
     "name": "stdout",
     "output_type": "stream",
     "text": [
      "Family members\n"
     ]
    }
   ],
   "source": [
    "family()"
   ]
  },
  {
   "cell_type": "code",
   "execution_count": 3,
   "id": "424d4578",
   "metadata": {},
   "outputs": [],
   "source": [
    "def GenZ():\n",
    "    print(\"Ruto must go\")"
   ]
  },
  {
   "cell_type": "code",
   "execution_count": 4,
   "id": "4573b33d",
   "metadata": {},
   "outputs": [
    {
     "name": "stdout",
     "output_type": "stream",
     "text": [
      "Ruto must go\n"
     ]
    }
   ],
   "source": [
    "GenZ()"
   ]
  },
  {
   "cell_type": "code",
   "execution_count": 10,
   "id": "d21209f0",
   "metadata": {},
   "outputs": [],
   "source": [
    "def add(a,b):\n",
    "    result =a+b\n",
    "    return result"
   ]
  },
  {
   "cell_type": "code",
   "execution_count": 17,
   "id": "d6b512fb",
   "metadata": {},
   "outputs": [
    {
     "data": {
      "text/plain": [
       "100"
      ]
     },
     "execution_count": 17,
     "metadata": {},
     "output_type": "execute_result"
    }
   ],
   "source": [
    "max(4,5,100)"
   ]
  },
  {
   "cell_type": "code",
   "execution_count": 18,
   "id": "8ca93dc0",
   "metadata": {},
   "outputs": [
    {
     "data": {
      "text/plain": [
       "5"
      ]
     },
     "execution_count": 18,
     "metadata": {},
     "output_type": "execute_result"
    }
   ],
   "source": [
    "len(\"Stacy\")"
   ]
  },
  {
   "cell_type": "code",
   "execution_count": 14,
   "id": "8791113e",
   "metadata": {},
   "outputs": [],
   "source": [
    "x= add(6,6)"
   ]
  },
  {
   "cell_type": "code",
   "execution_count": 12,
   "id": "cec111c7",
   "metadata": {},
   "outputs": [
    {
     "data": {
      "text/plain": [
       "12"
      ]
     },
     "execution_count": 12,
     "metadata": {},
     "output_type": "execute_result"
    }
   ],
   "source": [
    "x\n"
   ]
  },
  {
   "cell_type": "code",
   "execution_count": 19,
   "id": "08f482be",
   "metadata": {},
   "outputs": [
    {
     "name": "stdout",
     "output_type": "stream",
     "text": [
      "1\n"
     ]
    }
   ],
   "source": [
    "my_list = [1, 2, 3, 4, 5]\n",
    "print(my_list[0]) # Output: 1\n"
   ]
  },
  {
   "cell_type": "code",
   "execution_count": 21,
   "id": "4a7f78b3",
   "metadata": {},
   "outputs": [
    {
     "data": {
      "text/plain": [
       "'wiu'"
      ]
     },
     "execution_count": 21,
     "metadata": {},
     "output_type": "execute_result"
    }
   ],
   "source": [
    "grocery=[\"tomato\", \"wiu\", \"onion\"]\n",
    "grocery[1]"
   ]
  },
  {
   "cell_type": "code",
   "execution_count": 27,
   "id": "5e918794",
   "metadata": {},
   "outputs": [
    {
     "name": "stdout",
     "output_type": "stream",
     "text": [
      "tomato\n",
      "wiu\n",
      "Kitungu\n",
      "['tomato', 'wiu', 'Kitungu']\n"
     ]
    }
   ],
   "source": [
    "ind = 0\n",
    "for item in grocery:\n",
    "    print(item)\n",
    "\n",
    "print(grocery)"
   ]
  },
  {
   "cell_type": "code",
   "execution_count": 36,
   "id": "65281c4a",
   "metadata": {},
   "outputs": [],
   "source": [
    "grocery[2]=\"Kitungu\""
   ]
  },
  {
   "cell_type": "code",
   "execution_count": 38,
   "id": "a5deffea",
   "metadata": {},
   "outputs": [
    {
     "name": "stdout",
     "output_type": "stream",
     "text": [
      "['tomato', 'wiu', 'Kitungu']\n"
     ]
    }
   ],
   "source": [
    "grocery=[\"tomato\", \"wiu\", \"onion\"]\n",
    "ind = 0\n",
    "for item in grocery:\n",
    "    if item == \"onion\":\n",
    "            grocery[ind]=\"Kitungu\"\n",
    "    ind= ind +1\n",
    "print(grocery)"
   ]
  },
  {
   "cell_type": "code",
   "execution_count": null,
   "id": "c03718e9",
   "metadata": {},
   "outputs": [],
   "source": [
    "55DE27CF"
   ]
  },
  {
   "cell_type": "code",
   "execution_count": null,
   "id": "760f5fd4",
   "metadata": {},
   "outputs": [],
   "source": []
  },
  {
   "cell_type": "code",
   "execution_count": 39,
   "id": "0234f8c9",
   "metadata": {},
   "outputs": [
    {
     "name": "stdout",
     "output_type": "stream",
     "text": [
      "['tomato', 'wiu', 'Kitungu', 'cabbage']\n"
     ]
    }
   ],
   "source": [
    "grocery.append(\"cabbage\")\n",
    "print(grocery)"
   ]
  },
  {
   "cell_type": "code",
   "execution_count": 40,
   "id": "87b19395",
   "metadata": {},
   "outputs": [
    {
     "data": {
      "text/plain": [
       "['tomato', 'wiu', 'Kitungu', 'cabbage']"
      ]
     },
     "execution_count": 40,
     "metadata": {},
     "output_type": "execute_result"
    }
   ],
   "source": [
    "grocery.copy()"
   ]
  },
  {
   "cell_type": "code",
   "execution_count": null,
   "id": "037f01b7",
   "metadata": {},
   "outputs": [],
   "source": [
    "grocery.sort()"
   ]
  },
  {
   "cell_type": "markdown",
   "id": "47deb030",
   "metadata": {},
   "source": [
    "1. Write a function that takes a number as a parameter and check whether the number is even or odd\n",
    "2. Write a function that takes a list of numbers as a parameter check whether every number is even or odd"
   ]
  },
  {
   "cell_type": "code",
   "execution_count": null,
   "id": "e0168688",
   "metadata": {},
   "outputs": [],
   "source": []
  },
  {
   "cell_type": "code",
   "execution_count": null,
   "id": "674bee8a",
   "metadata": {},
   "outputs": [],
   "source": []
  }
 ],
 "metadata": {
  "kernelspec": {
   "display_name": "Python 3 (ipykernel)",
   "language": "python",
   "name": "python3"
  },
  "language_info": {
   "codemirror_mode": {
    "name": "ipython",
    "version": 3
   },
   "file_extension": ".py",
   "mimetype": "text/x-python",
   "name": "python",
   "nbconvert_exporter": "python",
   "pygments_lexer": "ipython3",
   "version": "3.11.5"
  }
 },
 "nbformat": 4,
 "nbformat_minor": 5
}
